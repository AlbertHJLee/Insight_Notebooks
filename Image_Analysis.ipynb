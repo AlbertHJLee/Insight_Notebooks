{
 "cells": [
  {
   "cell_type": "markdown",
   "metadata": {},
   "source": [
    "# Image Analysis\n",
    "\n",
    "This notebook shows some simple examples of basic image analysis techniques.\n",
    "\n",
    "Although the code should be roughly self-explanatory, please read along with these slides (INSERT SLIDES) for a better grasp of the concepts.\n",
    "\n",
    "\n",
    "# Introduction\n",
    "\n",
    "Image analysis is an umbrella term for various methods and tools for manipulating and extracting information from images. There are fairly sophisticated algorithms like CNNs which would be difficult to cover in an introduction, but even these techniques build on some simple tools, such as segmentation and feature detection. I'll cover some of the basic tools in hopes that you'll be able to tackle more advanced techniques with the right vocabulary.\n",
    "\n",
    "\n",
    "# Topics\n",
    "\n",
    "- Segmentation\n",
    "  - Thresholding\n",
    "  - Clustering\n",
    "  - Edges...\n",
    "- Feature detection\n",
    "  - Edge detection\n",
    "  - Corner detection\n",
    "  - Ridge detection\n"
   ]
  },
  {
   "cell_type": "code",
   "execution_count": null,
   "metadata": {
    "collapsed": true
   },
   "outputs": [],
   "source": []
  }
 ],
 "metadata": {
  "kernelspec": {
   "display_name": "Python 2",
   "language": "python",
   "name": "python2"
  },
  "language_info": {
   "codemirror_mode": {
    "name": "ipython",
    "version": 2
   },
   "file_extension": ".py",
   "mimetype": "text/x-python",
   "name": "python",
   "nbconvert_exporter": "python",
   "pygments_lexer": "ipython2",
   "version": "2.7.12"
  }
 },
 "nbformat": 4,
 "nbformat_minor": 2
}
